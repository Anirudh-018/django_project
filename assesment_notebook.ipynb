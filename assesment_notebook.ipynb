{
 "cells": [
  {
   "cell_type": "code",
   "execution_count": 1,
   "metadata": {},
   "outputs": [],
   "source": [
    "import numpy as np\n",
    "import pandas as pd\n",
    "cbe=pd.read_csv('cbe.csv')\n",
    "banglore=pd.read_csv('banglore.csv')"
   ]
  },
  {
   "cell_type": "code",
   "execution_count": 25,
   "metadata": {},
   "outputs": [
    {
     "name": "stdout",
     "output_type": "stream",
     "text": [
      "8524 42268\n",
      "500000 1220095\n",
      " 40000\n",
      "200000 300000\n",
      " 2200000\n",
      "10000 40000\n",
      "800000 1500000\n",
      "300000 700000\n",
      "60000 75000\n",
      " 750000\n",
      " 1100000\n",
      " \n",
      "800000 1200000\n",
      "300000 600000\n",
      "10000 20000\n",
      "250000 350000\n",
      "15000 40000\n",
      "347530 1497828\n",
      " 600000\n",
      "15000 50000\n",
      "15000 35000\n",
      "90000 100000\n",
      "15000 40000\n",
      "300000 600000\n",
      "12000 25000\n",
      "240000 350000\n",
      "1400000 1500000\n",
      "30000 35000\n",
      "25000 75000\n",
      "500000 600000\n",
      " \n",
      "300000 500000\n",
      "300000 400000\n",
      " \n",
      "1500000 2000000\n",
      "1347678 6403012\n",
      "600000 1200000\n",
      " 46829\n",
      "18086 35153\n",
      "200000 500000\n",
      "150 300\n",
      "25000 35000\n",
      "1500000 1800000\n",
      " \n"
     ]
    }
   ],
   "source": [
    "val=[]\n",
    "for i in cbe['salary']:\n",
    "    if(type(i)==float):\n",
    "        val.append(10000)\n",
    "    else:\n",
    "        s1=\"\".join(j for j in i.split()[0] if  j.isdecimal())\n",
    "        s2=\"\".join(j for j in i.split()[2] if  j.isdecimal())\n",
    "        print(s1,s2,sep=\" \")\n",
    "        if(s1==\"\"):\n",
    "            s1=0\n",
    "        if(s2==\"\"):\n",
    "            s2=0\n",
    "        avg=(int(s1)+int(s2))/2\n",
    "        val.append(avg)"
   ]
  },
  {
   "cell_type": "code",
   "execution_count": 32,
   "metadata": {},
   "outputs": [
    {
     "name": "stdout",
     "output_type": "stream",
     "text": [
      "average annual salary for python developer in coimbatore is 268178.2662337662\n"
     ]
    }
   ],
   "source": [
    "np_val=np.asarray(val)\n",
    "print('average annual salary for python developer in coimbatore is '+str(np.average(np_val)))"
   ]
  },
  {
   "cell_type": "code",
   "execution_count": null,
   "metadata": {},
   "outputs": [],
   "source": []
  }
 ],
 "metadata": {
  "kernelspec": {
   "display_name": "Python 3",
   "language": "python",
   "name": "python3"
  },
  "language_info": {
   "codemirror_mode": {
    "name": "ipython",
    "version": 3
   },
   "file_extension": ".py",
   "mimetype": "text/x-python",
   "name": "python",
   "nbconvert_exporter": "python",
   "pygments_lexer": "ipython3",
   "version": "3.10.9"
  }
 },
 "nbformat": 4,
 "nbformat_minor": 2
}
